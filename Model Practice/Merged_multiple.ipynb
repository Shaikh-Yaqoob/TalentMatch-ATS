{
 "cells": [
  {
   "cell_type": "code",
   "execution_count": 24,
   "id": "61366ce1-b244-4ea0-a84c-f3db8f0ffb0b",
   "metadata": {},
   "outputs": [],
   "source": [
    "import pandas as pd\n",
    "\n",
    "# Load only the desired columns\n",
    "df = pd.read_csv('all_resumes_merged.csv', encoding='latin1', usecols=['ID', 'Resume', 'Category'], low_memory=False)"
   ]
  },
  {
   "cell_type": "code",
   "execution_count": 26,
   "id": "2a150636-edec-4786-936f-ceaf9ff4fec2",
   "metadata": {},
   "outputs": [
    {
     "name": "stdout",
     "output_type": "stream",
     "text": [
      "Index(['ID', 'Resume', 'Category'], dtype='object')\n",
      "ID          object\n",
      "Resume      object\n",
      "Category    object\n",
      "dtype: object\n",
      "ID: [<class 'str'> <class 'float'>]\n",
      "Resume: [<class 'str'>]\n",
      "Category: [<class 'str'> <class 'float'>]\n",
      "   ID                                             Resume  \\\n",
      "0   1  Database Administrator- Family Private Care LL...   \n",
      "1   2  Database Administrator Database Administrator ...   \n",
      "2   3  Oracle Database Administrator Oracle Database ...   \n",
      "3   4  Amazon Redshift Administrator and ETL Develope...   \n",
      "4   5  Scrum Master Scrum Master Scrum Master Richmon...   \n",
      "5   6  Oracle Database Administrator Oracle Database ...   \n",
      "6   7  Oracle Database Administrator Oracle Database ...   \n",
      "7   8  Lead Database Administrator/Developer Lead Dat...   \n",
      "8   9  Database Administrator / Database Developer Da...   \n",
      "9  10  Oracle Database Administrator Oracle Database ...   \n",
      "\n",
      "                 Category  \n",
      "0  Database Administrator  \n",
      "1  Database Administrator  \n",
      "2  Database Administrator  \n",
      "3  Database Administrator  \n",
      "4  Database Administrator  \n",
      "5  Database Administrator  \n",
      "6  Database Administrator  \n",
      "7  Database Administrator  \n",
      "8  Database Administrator  \n",
      "9  Database Administrator  \n"
     ]
    }
   ],
   "source": [
    "# Check column names and data types\n",
    "print(df.columns)\n",
    "print(df.dtypes)\n",
    "\n",
    "# Check unique data types in each column\n",
    "for col in df.columns:\n",
    "    unique_types = df[col].apply(type).unique()\n",
    "    print(f\"{col}: {unique_types}\")\n",
    "\n",
    "# View sample data\n",
    "print(df.head(10))"
   ]
  },
  {
   "cell_type": "code",
   "execution_count": 28,
   "id": "c1c6faa1-c86e-4733-979e-149758f549ae",
   "metadata": {},
   "outputs": [],
   "source": [
    "# Handle mixed data types\n",
    "# ID: Convert to string\n",
    "df['ID'] = df['ID'].astype(str).replace('nan', 'Unknown')\n",
    "\n",
    "# Resume: Convert to string\n",
    "df['Resume'] = df['Resume'].astype(str).replace('nan', 'Unknown')\n",
    "\n",
    "# Category: Convert to categorical\n",
    "df['Category'] = df['Category'].astype(str).replace('nan', 'Unknown').astype('category')"
   ]
  },
  {
   "cell_type": "code",
   "execution_count": 30,
   "id": "1d9ad13c-1613-48eb-817a-979dc0054a02",
   "metadata": {},
   "outputs": [],
   "source": [
    "# Save as UTF-8\n",
    "df.to_csv('cleaned_resumes_utf8.csv', index=False, encoding='utf-8')"
   ]
  },
  {
   "cell_type": "code",
   "execution_count": 32,
   "id": "77d8fabb-d35d-434b-9692-dad51f7da9ab",
   "metadata": {},
   "outputs": [
    {
     "name": "stdout",
     "output_type": "stream",
     "text": [
      "ID          object\n",
      "Resume      object\n",
      "Category    object\n",
      "dtype: object\n",
      "   ID                                             Resume  \\\n",
      "0   1  Database Administrator- Family Private Care LL...   \n",
      "1   2  Database Administrator Database Administrator ...   \n",
      "2   3  Oracle Database Administrator Oracle Database ...   \n",
      "3   4  Amazon Redshift Administrator and ETL Develope...   \n",
      "4   5  Scrum Master Scrum Master Scrum Master Richmon...   \n",
      "5   6  Oracle Database Administrator Oracle Database ...   \n",
      "6   7  Oracle Database Administrator Oracle Database ...   \n",
      "7   8  Lead Database Administrator/Developer Lead Dat...   \n",
      "8   9  Database Administrator / Database Developer Da...   \n",
      "9  10  Oracle Database Administrator Oracle Database ...   \n",
      "\n",
      "                 Category  \n",
      "0  Database Administrator  \n",
      "1  Database Administrator  \n",
      "2  Database Administrator  \n",
      "3  Database Administrator  \n",
      "4  Database Administrator  \n",
      "5  Database Administrator  \n",
      "6  Database Administrator  \n",
      "7  Database Administrator  \n",
      "8  Database Administrator  \n",
      "9  Database Administrator  \n"
     ]
    }
   ],
   "source": [
    "# Reload the UTF-8 file to verify\n",
    "df_cleaned = pd.read_csv('cleaned_resumes_utf8.csv')\n",
    "print(df_cleaned.dtypes)\n",
    "print(df_cleaned.head(10))"
   ]
  },
  {
   "cell_type": "code",
   "execution_count": 34,
   "id": "17c840b5-964b-4c71-918f-d854df6a817b",
   "metadata": {},
   "outputs": [
    {
     "data": {
      "text/html": [
       "<div>\n",
       "<style scoped>\n",
       "    .dataframe tbody tr th:only-of-type {\n",
       "        vertical-align: middle;\n",
       "    }\n",
       "\n",
       "    .dataframe tbody tr th {\n",
       "        vertical-align: top;\n",
       "    }\n",
       "\n",
       "    .dataframe thead th {\n",
       "        text-align: right;\n",
       "    }\n",
       "</style>\n",
       "<table border=\"1\" class=\"dataframe\">\n",
       "  <thead>\n",
       "    <tr style=\"text-align: right;\">\n",
       "      <th></th>\n",
       "      <th>ID</th>\n",
       "      <th>Resume</th>\n",
       "      <th>Category</th>\n",
       "    </tr>\n",
       "  </thead>\n",
       "  <tbody>\n",
       "    <tr>\n",
       "      <th>0</th>\n",
       "      <td>1</td>\n",
       "      <td>Database Administrator- Family Private Care LL...</td>\n",
       "      <td>Database Administrator</td>\n",
       "    </tr>\n",
       "    <tr>\n",
       "      <th>1</th>\n",
       "      <td>2</td>\n",
       "      <td>Database Administrator Database Administrator ...</td>\n",
       "      <td>Database Administrator</td>\n",
       "    </tr>\n",
       "    <tr>\n",
       "      <th>2</th>\n",
       "      <td>3</td>\n",
       "      <td>Oracle Database Administrator Oracle Database ...</td>\n",
       "      <td>Database Administrator</td>\n",
       "    </tr>\n",
       "    <tr>\n",
       "      <th>3</th>\n",
       "      <td>4</td>\n",
       "      <td>Amazon Redshift Administrator and ETL Develope...</td>\n",
       "      <td>Database Administrator</td>\n",
       "    </tr>\n",
       "    <tr>\n",
       "      <th>4</th>\n",
       "      <td>5</td>\n",
       "      <td>Scrum Master Scrum Master Scrum Master Richmon...</td>\n",
       "      <td>Database Administrator</td>\n",
       "    </tr>\n",
       "  </tbody>\n",
       "</table>\n",
       "</div>"
      ],
      "text/plain": [
       "  ID                                             Resume  \\\n",
       "0  1  Database Administrator- Family Private Care LL...   \n",
       "1  2  Database Administrator Database Administrator ...   \n",
       "2  3  Oracle Database Administrator Oracle Database ...   \n",
       "3  4  Amazon Redshift Administrator and ETL Develope...   \n",
       "4  5  Scrum Master Scrum Master Scrum Master Richmon...   \n",
       "\n",
       "                 Category  \n",
       "0  Database Administrator  \n",
       "1  Database Administrator  \n",
       "2  Database Administrator  \n",
       "3  Database Administrator  \n",
       "4  Database Administrator  "
      ]
     },
     "execution_count": 34,
     "metadata": {},
     "output_type": "execute_result"
    }
   ],
   "source": [
    "df_cleaned.head()"
   ]
  },
  {
   "cell_type": "code",
   "execution_count": 36,
   "id": "00a33626-239d-422a-8702-4f07274f916f",
   "metadata": {},
   "outputs": [
    {
     "data": {
      "text/plain": [
       "ID          0\n",
       "Resume      0\n",
       "Category    0\n",
       "dtype: int64"
      ]
     },
     "execution_count": 36,
     "metadata": {},
     "output_type": "execute_result"
    }
   ],
   "source": [
    "df_cleaned.isnull().sum()"
   ]
  },
  {
   "cell_type": "code",
   "execution_count": 38,
   "id": "98fe898f-1906-4124-91b4-fd93a1f53721",
   "metadata": {},
   "outputs": [],
   "source": [
    "import pandas as pd\n",
    "\n",
    "# Load the cleaned dataset\n",
    "df_cleaned = pd.read_csv('cleaned_resumes_utf8.csv')"
   ]
  },
  {
   "cell_type": "code",
   "execution_count": 40,
   "id": "e29fad68-d776-4482-86ec-d52ff9539c5d",
   "metadata": {},
   "outputs": [],
   "source": [
    "# Delete the ID column\n",
    "df_cleaned = df_cleaned.drop(columns=['ID'])"
   ]
  },
  {
   "cell_type": "code",
   "execution_count": 42,
   "id": "3dac32b7-32b6-4a07-a7fc-812436e2dcd5",
   "metadata": {},
   "outputs": [],
   "source": [
    "df_cleaned = df_cleaned[['Resume', 'Category']]"
   ]
  },
  {
   "cell_type": "code",
   "execution_count": 44,
   "id": "df92f1f4-0776-49a4-9059-991fcf20b87b",
   "metadata": {},
   "outputs": [
    {
     "name": "stdout",
     "output_type": "stream",
     "text": [
      "Data types:\n",
      " Resume      object\n",
      "Category    object\n",
      "dtype: object\n",
      "Resume: [<class 'str'>]\n",
      "Category: [<class 'str'>]\n",
      "Sample data:\n",
      "                                               Resume                Category\n",
      "0  Database Administrator- Family Private Care LL...  Database Administrator\n",
      "1  Database Administrator Database Administrator ...  Database Administrator\n",
      "2  Oracle Database Administrator Oracle Database ...  Database Administrator\n",
      "3  Amazon Redshift Administrator and ETL Develope...  Database Administrator\n",
      "4  Scrum Master Scrum Master Scrum Master Richmon...  Database Administrator\n",
      "5  Oracle Database Administrator Oracle Database ...  Database Administrator\n",
      "6  Oracle Database Administrator Oracle Database ...  Database Administrator\n",
      "7  Lead Database Administrator/Developer Lead Dat...  Database Administrator\n",
      "8  Database Administrator / Database Developer Da...  Database Administrator\n",
      "9  Oracle Database Administrator Oracle Database ...  Database Administrator\n"
     ]
    }
   ],
   "source": [
    "# Check data types\n",
    "print(\"Data types:\\n\", df_cleaned.dtypes)\n",
    "\n",
    "# Check unique data types\n",
    "for col in df_cleaned.columns:\n",
    "    unique_types = df_cleaned[col].apply(type).unique()\n",
    "    print(f\"{col}: {unique_types}\")\n",
    "\n",
    "# View sample data\n",
    "print(\"Sample data:\\n\", df_cleaned.head(10))"
   ]
  },
  {
   "cell_type": "code",
   "execution_count": 46,
   "id": "1e398de5-aa66-4a66-9bc3-c72d8dcf1ede",
   "metadata": {},
   "outputs": [],
   "source": [
    "# Ensure Resume is string\n",
    "df_cleaned['Resume'] = df_cleaned['Resume'].astype(str).replace('nan', 'Unknown')\n",
    "\n",
    "# Ensure Category is categorical\n",
    "df_cleaned['Category'] = df_cleaned['Category'].astype(str).replace('nan', 'Unknown').astype('category')"
   ]
  },
  {
   "cell_type": "code",
   "execution_count": 48,
   "id": "4dd766a8-b886-491f-9251-39bdd8112b73",
   "metadata": {},
   "outputs": [],
   "source": [
    "# Save the new dataset\n",
    "df_cleaned.to_csv('resumes_final_utf8.csv', index=False, encoding='utf-8')"
   ]
  },
  {
   "cell_type": "code",
   "execution_count": 50,
   "id": "9342de0c-56b6-4142-aad0-edef3a55d3f2",
   "metadata": {},
   "outputs": [
    {
     "data": {
      "text/html": [
       "<div>\n",
       "<style scoped>\n",
       "    .dataframe tbody tr th:only-of-type {\n",
       "        vertical-align: middle;\n",
       "    }\n",
       "\n",
       "    .dataframe tbody tr th {\n",
       "        vertical-align: top;\n",
       "    }\n",
       "\n",
       "    .dataframe thead th {\n",
       "        text-align: right;\n",
       "    }\n",
       "</style>\n",
       "<table border=\"1\" class=\"dataframe\">\n",
       "  <thead>\n",
       "    <tr style=\"text-align: right;\">\n",
       "      <th></th>\n",
       "      <th>Resume</th>\n",
       "      <th>Category</th>\n",
       "    </tr>\n",
       "  </thead>\n",
       "  <tbody>\n",
       "    <tr>\n",
       "      <th>0</th>\n",
       "      <td>Database Administrator- Family Private Care LL...</td>\n",
       "      <td>Database Administrator</td>\n",
       "    </tr>\n",
       "    <tr>\n",
       "      <th>1</th>\n",
       "      <td>Database Administrator Database Administrator ...</td>\n",
       "      <td>Database Administrator</td>\n",
       "    </tr>\n",
       "    <tr>\n",
       "      <th>2</th>\n",
       "      <td>Oracle Database Administrator Oracle Database ...</td>\n",
       "      <td>Database Administrator</td>\n",
       "    </tr>\n",
       "    <tr>\n",
       "      <th>3</th>\n",
       "      <td>Amazon Redshift Administrator and ETL Develope...</td>\n",
       "      <td>Database Administrator</td>\n",
       "    </tr>\n",
       "    <tr>\n",
       "      <th>4</th>\n",
       "      <td>Scrum Master Scrum Master Scrum Master Richmon...</td>\n",
       "      <td>Database Administrator</td>\n",
       "    </tr>\n",
       "  </tbody>\n",
       "</table>\n",
       "</div>"
      ],
      "text/plain": [
       "                                              Resume                Category\n",
       "0  Database Administrator- Family Private Care LL...  Database Administrator\n",
       "1  Database Administrator Database Administrator ...  Database Administrator\n",
       "2  Oracle Database Administrator Oracle Database ...  Database Administrator\n",
       "3  Amazon Redshift Administrator and ETL Develope...  Database Administrator\n",
       "4  Scrum Master Scrum Master Scrum Master Richmon...  Database Administrator"
      ]
     },
     "execution_count": 50,
     "metadata": {},
     "output_type": "execute_result"
    }
   ],
   "source": [
    "df_cleaned.head()"
   ]
  },
  {
   "cell_type": "code",
   "execution_count": 52,
   "id": "7b057ca7-f05c-4914-8b00-e942cff76b49",
   "metadata": {},
   "outputs": [],
   "source": [
    "import pandas as pd\n",
    "\n",
    "# Load the dataset\n",
    "df_final = pd.read_csv('resumes_final_utf8.csv')"
   ]
  },
  {
   "cell_type": "code",
   "execution_count": 54,
   "id": "5089c922-1e6b-4909-a99e-70d47c3fe90e",
   "metadata": {},
   "outputs": [
    {
     "name": "stdout",
     "output_type": "stream",
     "text": [
      "Resume column:\n",
      "  NaN count: 0\n",
      "  'Unknown' count: 0\n",
      "  Total NaN or 'Unknown': 0\n",
      "Category column:\n",
      "  NaN count: 0\n",
      "  'Unknown' count: 32\n",
      "  Total NaN or 'Unknown': 32\n",
      "Total rows in dataset: 21671\n"
     ]
    }
   ],
   "source": [
    "# Count NaN and 'Unknown' in Resume\n",
    "resume_nan = df_final['Resume'].isna().sum()\n",
    "resume_unknown = (df_final['Resume'] == 'Unknown').sum()\n",
    "resume_total = resume_nan + resume_unknown\n",
    "\n",
    "# Count NaN and 'Unknown' in Category\n",
    "category_nan = df_final['Category'].isna().sum()\n",
    "category_unknown = (df_final['Category'] == 'Unknown').sum()\n",
    "category_total = category_nan + category_unknown\n",
    "\n",
    "# Print results\n",
    "print(f\"Resume column:\")\n",
    "print(f\"  NaN count: {resume_nan}\")\n",
    "print(f\"  'Unknown' count: {resume_unknown}\")\n",
    "print(f\"  Total NaN or 'Unknown': {resume_total}\")\n",
    "print(f\"Category column:\")\n",
    "print(f\"  NaN count: {category_nan}\")\n",
    "print(f\"  'Unknown' count: {category_unknown}\")\n",
    "print(f\"  Total NaN or 'Unknown': {category_total}\")\n",
    "\n",
    "# Total rows in the dataset\n",
    "total_rows = len(df_final)\n",
    "print(f\"Total rows in dataset: {total_rows}\")"
   ]
  },
  {
   "cell_type": "code",
   "execution_count": 1,
   "id": "60c7f40d-e99a-41fd-bf5b-3a51ce8abf28",
   "metadata": {},
   "outputs": [],
   "source": [
    "import pandas as pd\n",
    "\n",
    "# Load the dataset\n",
    "df_final = pd.read_csv('resumes_final_utf8.csv')"
   ]
  },
  {
   "cell_type": "code",
   "execution_count": 3,
   "id": "07ac778b-e1be-428d-98be-c45aabb625d8",
   "metadata": {},
   "outputs": [],
   "source": [
    "# Remove rows where Category is 'Unknown'\n",
    "df_final = df_final[df_final['Category'] != 'Unknown']"
   ]
  },
  {
   "cell_type": "code",
   "execution_count": 5,
   "id": "1a030a4c-75c9-4e71-b147-c4183815f50d",
   "metadata": {},
   "outputs": [
    {
     "name": "stdout",
     "output_type": "stream",
     "text": [
      "Total rows after removing 'Unknown': 21639\n",
      "'Unknown' count in Category: 0\n",
      "Data types:\n",
      " Resume      object\n",
      "Category    object\n",
      "dtype: object\n",
      "Sample data:\n",
      "                                               Resume                Category\n",
      "0  Database Administrator- Family Private Care LL...  Database Administrator\n",
      "1  Database Administrator Database Administrator ...  Database Administrator\n",
      "2  Oracle Database Administrator Oracle Database ...  Database Administrator\n",
      "3  Amazon Redshift Administrator and ETL Develope...  Database Administrator\n",
      "4  Scrum Master Scrum Master Scrum Master Richmon...  Database Administrator\n",
      "5  Oracle Database Administrator Oracle Database ...  Database Administrator\n",
      "6  Oracle Database Administrator Oracle Database ...  Database Administrator\n",
      "7  Lead Database Administrator/Developer Lead Dat...  Database Administrator\n",
      "8  Database Administrator / Database Developer Da...  Database Administrator\n",
      "9  Oracle Database Administrator Oracle Database ...  Database Administrator\n"
     ]
    }
   ],
   "source": [
    "# Verify row count\n",
    "print(f\"Total rows after removing 'Unknown': {len(df_final)}\")\n",
    "\n",
    "# Check for 'Unknown' in Category\n",
    "category_unknown = (df_final['Category'] == 'Unknown').sum()\n",
    "print(f\"'Unknown' count in Category: {category_unknown}\")\n",
    "\n",
    "# Check data types\n",
    "print(\"Data types:\\n\", df_final.dtypes)\n",
    "\n",
    "# View sample data\n",
    "print(\"Sample data:\\n\", df_final.head(10))"
   ]
  },
  {
   "cell_type": "code",
   "execution_count": 7,
   "id": "606b4e31-7541-456f-b08d-699ef6ec10ea",
   "metadata": {},
   "outputs": [],
   "source": [
    "# Save the updated dataset\n",
    "df_final.to_csv('resumes_final_cleaned_utf8.csv', index=False, encoding='utf-8')"
   ]
  },
  {
   "cell_type": "code",
   "execution_count": 9,
   "id": "75d2416d-ac8b-441f-9b46-8244038432e5",
   "metadata": {},
   "outputs": [
    {
     "name": "stdout",
     "output_type": "stream",
     "text": [
      "Columns: Index(['Resume', 'Category'], dtype='object')\n",
      "Total rows: 21639\n",
      "Data types:\n",
      " Resume      object\n",
      "Category    object\n",
      "dtype: object\n",
      "Sample data:\n",
      "                                               Resume                Category\n",
      "0  Database Administrator- Family Private Care LL...  Database Administrator\n",
      "1  Database Administrator Database Administrator ...  Database Administrator\n",
      "2  Oracle Database Administrator Oracle Database ...  Database Administrator\n",
      "3  Amazon Redshift Administrator and ETL Develope...  Database Administrator\n",
      "4  Scrum Master Scrum Master Scrum Master Richmon...  Database Administrator\n",
      "5  Oracle Database Administrator Oracle Database ...  Database Administrator\n",
      "6  Oracle Database Administrator Oracle Database ...  Database Administrator\n",
      "7  Lead Database Administrator/Developer Lead Dat...  Database Administrator\n",
      "8  Database Administrator / Database Developer Da...  Database Administrator\n",
      "9  Oracle Database Administrator Oracle Database ...  Database Administrator\n"
     ]
    }
   ],
   "source": [
    "# Load and verify the saved file\n",
    "df_verified = pd.read_csv('resumes_final_cleaned_utf8.csv')\n",
    "print(\"Columns:\", df_verified.columns)\n",
    "print(\"Total rows:\", len(df_verified))\n",
    "print(\"Data types:\\n\", df_verified.dtypes)\n",
    "print(\"Sample data:\\n\", df_verified.head(10))"
   ]
  },
  {
   "cell_type": "code",
   "execution_count": 15,
   "id": "15ca14dc-3dc6-46ee-a817-931da6de7634",
   "metadata": {},
   "outputs": [
    {
     "name": "stdout",
     "output_type": "stream",
     "text": [
      "Columns: Index(['Resume', 'Category'], dtype='object')\n"
     ]
    }
   ],
   "source": [
    "# Check column names\n",
    "print(\"Columns:\", df_final.columns)"
   ]
  },
  {
   "cell_type": "code",
   "execution_count": 11,
   "id": "ba4defa3-6820-43fa-a6bd-0071f61f495c",
   "metadata": {},
   "outputs": [],
   "source": [
    "import pandas as pd\n",
    "\n",
    "# Load the dataset\n",
    "df = pd.read_csv('Cleaned_Book2.csv')"
   ]
  },
  {
   "cell_type": "code",
   "execution_count": 13,
   "id": "0c0b4a62-a5b7-4fae-8815-41dd9a7602fb",
   "metadata": {},
   "outputs": [
    {
     "name": "stdout",
     "output_type": "stream",
     "text": [
      "Columns: Index(['Resume', 'Category'], dtype='object')\n"
     ]
    }
   ],
   "source": [
    "# Check column names\n",
    "print(\"Columns:\", df.columns)"
   ]
  },
  {
   "cell_type": "code",
   "execution_count": 17,
   "id": "b3594ffd-21b1-45f7-a24c-d179fa785c85",
   "metadata": {},
   "outputs": [
    {
     "name": "stdout",
     "output_type": "stream",
     "text": [
      "Resume column:\n",
      "  NaN count: 0\n",
      "  'Unknown' count: 0\n",
      "  Total NaN or 'Unknown': 0\n",
      "Category column:\n",
      "  NaN count: 0\n",
      "  'Unknown' count: 0\n",
      "  Total NaN or 'Unknown': 0\n",
      "Total rows in dataset: 1001\n",
      "Rows where both Resume and Category are NaN or 'Unknown': 0\n",
      "Rows where either Resume or Category is NaN or 'Unknown': 0\n"
     ]
    }
   ],
   "source": [
    "# Count NaN and 'Unknown' in Resume\n",
    "resume_nan = df['Resume'].isna().sum()\n",
    "resume_unknown = (df['Resume'] == 'Unknown').sum()\n",
    "resume_total = resume_nan + resume_unknown\n",
    "\n",
    "# Count NaN and 'Unknown' in Category\n",
    "category_nan = df['Category'].isna().sum()\n",
    "category_unknown = (df['Category'] == 'Unknown').sum()\n",
    "category_total = category_nan + category_unknown\n",
    "\n",
    "# Count rows where both or either column is NaN/'Unknown'\n",
    "both_condition = ((df['Resume'].isna() | (df['Resume'] == 'Unknown')) & \n",
    "                  (df['Category'].isna() | (df['Category'] == 'Unknown')))\n",
    "both_count = both_condition.sum()\n",
    "\n",
    "either_condition = ((df['Resume'].isna() | (df['Resume'] == 'Unknown')) | \n",
    "                    (df['Category'].isna() | (df['Category'] == 'Unknown')))\n",
    "either_count = either_condition.sum()\n",
    "\n",
    "# Print results\n",
    "print(f\"Resume column:\")\n",
    "print(f\"  NaN count: {resume_nan}\")\n",
    "print(f\"  'Unknown' count: {resume_unknown}\")\n",
    "print(f\"  Total NaN or 'Unknown': {resume_total}\")\n",
    "print(f\"Category column:\")\n",
    "print(f\"  NaN count: {category_nan}\")\n",
    "print(f\"  'Unknown' count: {category_unknown}\")\n",
    "print(f\"  Total NaN or 'Unknown': {category_total}\")\n",
    "print(f\"Total rows in dataset: {len(df)}\")\n",
    "print(f\"Rows where both Resume and Category are NaN or 'Unknown': {both_count}\")\n",
    "print(f\"Rows where either Resume or Category is NaN or 'Unknown': {either_count}\")"
   ]
  },
  {
   "cell_type": "code",
   "execution_count": 19,
   "id": "ee228201-6d31-4837-9930-fad911f8c067",
   "metadata": {},
   "outputs": [],
   "source": [
    "import pandas as pd\n",
    "\n",
    "# Load the datasets\n",
    "df_final = pd.read_csv('resumes_final_cleaned_utf8.csv')\n",
    "df_book2 = pd.read_csv('Cleaned_Book2.csv')  # Use encoding='latin1' if needed"
   ]
  },
  {
   "cell_type": "code",
   "execution_count": 21,
   "id": "11a7bfaa-71e0-4c8a-8e88-f40700561967",
   "metadata": {},
   "outputs": [
    {
     "name": "stdout",
     "output_type": "stream",
     "text": [
      "resumes_final_cleaned_utf8.csv columns: Index(['Resume', 'Category'], dtype='object')\n",
      "Cleaned_Book2.csv columns: Index(['Resume', 'Category'], dtype='object')\n"
     ]
    }
   ],
   "source": [
    "# Check columns\n",
    "print(\"resumes_final_cleaned_utf8.csv columns:\", df_final.columns)\n",
    "print(\"Cleaned_Book2.csv columns:\", df_book2.columns)"
   ]
  },
  {
   "cell_type": "code",
   "execution_count": 23,
   "id": "6215b45c-c443-43db-b870-d5981489e0ad",
   "metadata": {},
   "outputs": [],
   "source": [
    "# Append the datasets\n",
    "df_combined = pd.concat([df_final, df_book2], ignore_index=True)"
   ]
  },
  {
   "cell_type": "code",
   "execution_count": 25,
   "id": "9f1ebde3-1f85-461e-a0c1-5ab4d9029d28",
   "metadata": {},
   "outputs": [
    {
     "name": "stdout",
     "output_type": "stream",
     "text": [
      "Combined dataset:\n",
      "Resume column:\n",
      "  NaN count: 0\n",
      "  'Unknown' count: 0\n",
      "  Total NaN or 'Unknown': 0\n",
      "Category column:\n",
      "  NaN count: 0\n",
      "  'Unknown' count: 0\n",
      "  Total NaN or 'Unknown': 0\n",
      "Total rows in combined dataset: 22640\n",
      "Rows where both Resume and Category are NaN or 'Unknown': 0\n",
      "Rows where either Resume or Category is NaN or 'Unknown': 0\n"
     ]
    }
   ],
   "source": [
    "# Count NaN and 'Unknown' in Resume\n",
    "resume_nan = df_combined['Resume'].isna().sum()\n",
    "resume_unknown = (df_combined['Resume'] == 'Unknown').sum()\n",
    "resume_total = resume_nan + resume_unknown\n",
    "\n",
    "# Count NaN and 'Unknown' in Category\n",
    "category_nan = df_combined['Category'].isna().sum()\n",
    "category_unknown = (df_combined['Category'] == 'Unknown').sum()\n",
    "category_total = category_nan + category_unknown\n",
    "\n",
    "# Count rows where both or either column is NaN/'Unknown'\n",
    "both_condition = ((df_combined['Resume'].isna() | (df_combined['Resume'] == 'Unknown')) & \n",
    "                  (df_combined['Category'].isna() | (df_combined['Category'] == 'Unknown')))\n",
    "both_count = both_condition.sum()\n",
    "\n",
    "either_condition = ((df_combined['Resume'].isna() | (df_combined['Resume'] == 'Unknown')) | \n",
    "                    (df_combined['Category'].isna() | (df_combined['Category'] == 'Unknown')))\n",
    "either_count = either_condition.sum()\n",
    "\n",
    "# Print results\n",
    "print(f\"Combined dataset:\")\n",
    "print(f\"Resume column:\")\n",
    "print(f\"  NaN count: {resume_nan}\")\n",
    "print(f\"  'Unknown' count: {resume_unknown}\")\n",
    "print(f\"  Total NaN or 'Unknown': {resume_total}\")\n",
    "print(f\"Category column:\")\n",
    "print(f\"  NaN count: {category_nan}\")\n",
    "print(f\"  'Unknown' count: {category_unknown}\")\n",
    "print(f\"  Total NaN or 'Unknown': {category_total}\")\n",
    "print(f\"Total rows in combined dataset: {len(df_combined)}\")\n",
    "print(f\"Rows where both Resume and Category are NaN or 'Unknown': {both_count}\")\n",
    "print(f\"Rows where either Resume or Category is NaN or 'Unknown': {either_count}\")"
   ]
  },
  {
   "cell_type": "code",
   "execution_count": 27,
   "id": "ceba3afe-7437-474f-9806-2dc26d6d5dc3",
   "metadata": {},
   "outputs": [],
   "source": [
    "# Ensure consistent data types\n",
    "df_combined['Resume'] = df_combined['Resume'].astype(str).replace('nan', 'Unknown')\n",
    "df_combined['Category'] = df_combined['Category'].astype(str).replace('nan', 'Unknown').astype('category')"
   ]
  },
  {
   "cell_type": "code",
   "execution_count": 29,
   "id": "319d291b-28b6-4a1d-b3cb-0885ad45baf2",
   "metadata": {},
   "outputs": [
    {
     "name": "stdout",
     "output_type": "stream",
     "text": [
      "After cleaning:\n",
      "Total rows: 22640\n",
      "Data types:\n",
      " Resume        object\n",
      "Category    category\n",
      "dtype: object\n",
      "Sample data:\n",
      "                                               Resume                Category\n",
      "0  Database Administrator- Family Private Care LL...  Database Administrator\n",
      "1  Database Administrator Database Administrator ...  Database Administrator\n",
      "2  Oracle Database Administrator Oracle Database ...  Database Administrator\n",
      "3  Amazon Redshift Administrator and ETL Develope...  Database Administrator\n",
      "4  Scrum Master Scrum Master Scrum Master Richmon...  Database Administrator\n",
      "5  Oracle Database Administrator Oracle Database ...  Database Administrator\n",
      "6  Oracle Database Administrator Oracle Database ...  Database Administrator\n",
      "7  Lead Database Administrator/Developer Lead Dat...  Database Administrator\n",
      "8  Database Administrator / Database Developer Da...  Database Administrator\n",
      "9  Oracle Database Administrator Oracle Database ...  Database Administrator\n"
     ]
    }
   ],
   "source": [
    "# Verify the combined dataset\n",
    "print(\"After cleaning:\")\n",
    "print(f\"Total rows: {len(df_combined)}\")\n",
    "print(\"Data types:\\n\", df_combined.dtypes)\n",
    "print(\"Sample data:\\n\", df_combined.head(10))"
   ]
  },
  {
   "cell_type": "code",
   "execution_count": 31,
   "id": "0bd9733b-fa2c-45e6-bfb2-96bb1155b21e",
   "metadata": {},
   "outputs": [],
   "source": [
    "# Save the combined dataset\n",
    "df_combined.to_csv('resumes_combined_utf8.csv', index=False, encoding='utf-8')"
   ]
  },
  {
   "cell_type": "code",
   "execution_count": 33,
   "id": "83d1ff82-a138-43c2-a61c-1458d30f3938",
   "metadata": {},
   "outputs": [
    {
     "name": "stdout",
     "output_type": "stream",
     "text": [
      "Saved file:\n",
      "Columns: Index(['Resume', 'Category'], dtype='object')\n",
      "Total rows: 22640\n",
      "Data types:\n",
      " Resume      object\n",
      "Category    object\n",
      "dtype: object\n",
      "Sample data:\n",
      "                                               Resume                Category\n",
      "0  Database Administrator- Family Private Care LL...  Database Administrator\n",
      "1  Database Administrator Database Administrator ...  Database Administrator\n",
      "2  Oracle Database Administrator Oracle Database ...  Database Administrator\n",
      "3  Amazon Redshift Administrator and ETL Develope...  Database Administrator\n",
      "4  Scrum Master Scrum Master Scrum Master Richmon...  Database Administrator\n",
      "5  Oracle Database Administrator Oracle Database ...  Database Administrator\n",
      "6  Oracle Database Administrator Oracle Database ...  Database Administrator\n",
      "7  Lead Database Administrator/Developer Lead Dat...  Database Administrator\n",
      "8  Database Administrator / Database Developer Da...  Database Administrator\n",
      "9  Oracle Database Administrator Oracle Database ...  Database Administrator\n"
     ]
    }
   ],
   "source": [
    "# Load and verify the saved file\n",
    "df_verified = pd.read_csv('resumes_combined_utf8.csv')\n",
    "print(\"Saved file:\")\n",
    "print(\"Columns:\", df_verified.columns)\n",
    "print(\"Total rows:\", len(df_verified))\n",
    "print(\"Data types:\\n\", df_verified.dtypes)\n",
    "print(\"Sample data:\\n\", df_verified.head(10))"
   ]
  },
  {
   "cell_type": "code",
   "execution_count": 35,
   "id": "a0cb1e48-63fa-4773-aac8-64fcd308f3f9",
   "metadata": {},
   "outputs": [],
   "source": [
    "import pandas as pd\n",
    "\n",
    "# Load the datasets\n",
    "df_combined = pd.read_csv('resumes_combined_utf8.csv')\n",
    "df_talentmatch = pd.read_csv('Cleaned_Dataset_TalentMatch.csv')  # Use encoding='latin1' if needed"
   ]
  },
  {
   "cell_type": "code",
   "execution_count": 37,
   "id": "4c50f36f-6450-4a1f-83f2-4542566bc906",
   "metadata": {},
   "outputs": [
    {
     "name": "stdout",
     "output_type": "stream",
     "text": [
      "resumes_combined_utf8.csv columns: Index(['Resume', 'Category'], dtype='object')\n",
      "Cleaned_Dataset_TalentMatch.csv columns: Index(['Resume', 'Category'], dtype='object')\n"
     ]
    }
   ],
   "source": [
    "# Check columns\n",
    "print(\"resumes_combined_utf8.csv columns:\", df_combined.columns)\n",
    "print(\"Cleaned_Dataset_TalentMatch.csv columns:\", df_talentmatch.columns)"
   ]
  },
  {
   "cell_type": "code",
   "execution_count": 39,
   "id": "54d1bc9e-5f88-46bd-88c9-1957a084f20a",
   "metadata": {},
   "outputs": [],
   "source": [
    "# Append the datasets\n",
    "df_combined = pd.concat([df_combined, df_talentmatch], ignore_index=True)"
   ]
  },
  {
   "cell_type": "code",
   "execution_count": 41,
   "id": "0e745eb1-d60c-499f-a7e0-e8bd944cecab",
   "metadata": {},
   "outputs": [
    {
     "name": "stdout",
     "output_type": "stream",
     "text": [
      "Combined dataset:\n",
      "Resume column:\n",
      "  NaN count: 0\n",
      "  'Unknown' count: 0\n",
      "  Total NaN or 'Unknown': 0\n",
      "Category column:\n",
      "  NaN count: 0\n",
      "  'Unknown' count: 0\n",
      "  Total NaN or 'Unknown': 0\n",
      "Total rows in combined dataset: 23640\n",
      "Rows where both Resume and Category are NaN or 'Unknown': 0\n",
      "Rows where either Resume or Category is NaN or 'Unknown': 0\n"
     ]
    }
   ],
   "source": [
    "# Count NaN and 'Unknown' in Resume\n",
    "resume_nan = df_combined['Resume'].isna().sum()\n",
    "resume_unknown = (df_combined['Resume'] == 'Unknown').sum()\n",
    "resume_total = resume_nan + resume_unknown\n",
    "\n",
    "# Count NaN and 'Unknown' in Category\n",
    "category_nan = df_combined['Category'].isna().sum()\n",
    "category_unknown = (df_combined['Category'] == 'Unknown').sum()\n",
    "category_total = category_nan + category_unknown\n",
    "\n",
    "# Count rows where both or either column is NaN/'Unknown'\n",
    "both_condition = ((df_combined['Resume'].isna() | (df_combined['Resume'] == 'Unknown')) & \n",
    "                  (df_combined['Category'].isna() | (df_combined['Category'] == 'Unknown')))\n",
    "both_count = both_condition.sum()\n",
    "\n",
    "either_condition = ((df_combined['Resume'].isna() | (df_combined['Resume'] == 'Unknown')) | \n",
    "                    (df_combined['Category'].isna() | (df_combined['Category'] == 'Unknown')))\n",
    "either_count = either_condition.sum()\n",
    "\n",
    "# Print results\n",
    "print(f\"Combined dataset:\")\n",
    "print(f\"Resume column:\")\n",
    "print(f\"  NaN count: {resume_nan}\")\n",
    "print(f\"  'Unknown' count: {resume_unknown}\")\n",
    "print(f\"  Total NaN or 'Unknown': {resume_total}\")\n",
    "print(f\"Category column:\")\n",
    "print(f\"  NaN count: {category_nan}\")\n",
    "print(f\"  'Unknown' count: {category_unknown}\")\n",
    "print(f\"  Total NaN or 'Unknown': {category_total}\")\n",
    "print(f\"Total rows in combined dataset: {len(df_combined)}\")\n",
    "print(f\"Rows where both Resume and Category are NaN or 'Unknown': {both_count}\")\n",
    "print(f\"Rows where either Resume or Category is NaN or 'Unknown': {either_count}\")"
   ]
  },
  {
   "cell_type": "code",
   "execution_count": 43,
   "id": "f95d0bb0-3c54-43db-8ab8-2c4082d55940",
   "metadata": {},
   "outputs": [],
   "source": [
    "# Ensure consistent data types\n",
    "df_combined['Resume'] = df_combined['Resume'].astype(str).replace('nan', 'Unknown')\n",
    "df_combined['Category'] = df_combined['Category'].astype(str).replace('nan', 'Unknown').astype('category')"
   ]
  },
  {
   "cell_type": "code",
   "execution_count": 45,
   "id": "2822f635-cf49-492f-ab44-4a193db13ee9",
   "metadata": {},
   "outputs": [
    {
     "name": "stdout",
     "output_type": "stream",
     "text": [
      "\n",
      "After cleaning:\n",
      "Total rows: 23640\n",
      "Data types:\n",
      " Resume        object\n",
      "Category    category\n",
      "dtype: object\n",
      "Sample data:\n",
      "                                               Resume                Category\n",
      "0  Database Administrator- Family Private Care LL...  Database Administrator\n",
      "1  Database Administrator Database Administrator ...  Database Administrator\n",
      "2  Oracle Database Administrator Oracle Database ...  Database Administrator\n",
      "3  Amazon Redshift Administrator and ETL Develope...  Database Administrator\n",
      "4  Scrum Master Scrum Master Scrum Master Richmon...  Database Administrator\n",
      "5  Oracle Database Administrator Oracle Database ...  Database Administrator\n",
      "6  Oracle Database Administrator Oracle Database ...  Database Administrator\n",
      "7  Lead Database Administrator/Developer Lead Dat...  Database Administrator\n",
      "8  Database Administrator / Database Developer Da...  Database Administrator\n",
      "9  Oracle Database Administrator Oracle Database ...  Database Administrator\n"
     ]
    }
   ],
   "source": [
    "# Verify the combined dataset\n",
    "print(\"\\nAfter cleaning:\")\n",
    "print(f\"Total rows: {len(df_combined)}\")\n",
    "print(\"Data types:\\n\", df_combined.dtypes)\n",
    "print(\"Sample data:\\n\", df_combined.head(10))"
   ]
  },
  {
   "cell_type": "code",
   "execution_count": 47,
   "id": "4b141f6a-e772-4241-ac16-682ae281061a",
   "metadata": {},
   "outputs": [],
   "source": [
    "# Save the combined dataset\n",
    "df_combined.to_csv('resumes_combined_updated_utf8.csv', index=False, encoding='utf-8')"
   ]
  },
  {
   "cell_type": "code",
   "execution_count": 49,
   "id": "2bd81780-dc4f-4535-b9ed-4c76e06d7c58",
   "metadata": {},
   "outputs": [
    {
     "name": "stdout",
     "output_type": "stream",
     "text": [
      "\n",
      "Saved file:\n",
      "Columns: Index(['Resume', 'Category'], dtype='object')\n",
      "Total rows: 23640\n",
      "Data types:\n",
      " Resume      object\n",
      "Category    object\n",
      "dtype: object\n",
      "Sample data:\n",
      "                                               Resume                Category\n",
      "0  Database Administrator- Family Private Care LL...  Database Administrator\n",
      "1  Database Administrator Database Administrator ...  Database Administrator\n",
      "2  Oracle Database Administrator Oracle Database ...  Database Administrator\n",
      "3  Amazon Redshift Administrator and ETL Develope...  Database Administrator\n",
      "4  Scrum Master Scrum Master Scrum Master Richmon...  Database Administrator\n",
      "5  Oracle Database Administrator Oracle Database ...  Database Administrator\n",
      "6  Oracle Database Administrator Oracle Database ...  Database Administrator\n",
      "7  Lead Database Administrator/Developer Lead Dat...  Database Administrator\n",
      "8  Database Administrator / Database Developer Da...  Database Administrator\n",
      "9  Oracle Database Administrator Oracle Database ...  Database Administrator\n"
     ]
    }
   ],
   "source": [
    "# Load and verify the saved file\n",
    "df_verified = pd.read_csv('resumes_combined_updated_utf8.csv')\n",
    "print(\"\\nSaved file:\")\n",
    "print(\"Columns:\", df_verified.columns)\n",
    "print(\"Total rows:\", len(df_verified))\n",
    "print(\"Data types:\\n\", df_verified.dtypes)\n",
    "print(\"Sample data:\\n\", df_verified.head(10))"
   ]
  },
  {
   "cell_type": "code",
   "execution_count": null,
   "id": "c9455eec-b920-450a-b8d5-c33af3c655f2",
   "metadata": {},
   "outputs": [],
   "source": []
  }
 ],
 "metadata": {
  "kernelspec": {
   "display_name": "Python 3 (ipykernel)",
   "language": "python",
   "name": "python3"
  },
  "language_info": {
   "codemirror_mode": {
    "name": "ipython",
    "version": 3
   },
   "file_extension": ".py",
   "mimetype": "text/x-python",
   "name": "python",
   "nbconvert_exporter": "python",
   "pygments_lexer": "ipython3",
   "version": "3.12.7"
  }
 },
 "nbformat": 4,
 "nbformat_minor": 5
}
