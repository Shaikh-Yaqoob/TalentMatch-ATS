{
 "cells": [
  {
   "cell_type": "code",
   "execution_count": 3,
   "id": "a52285f8-2d3a-42db-a862-fce72499a9d2",
   "metadata": {
    "scrolled": true
   },
   "outputs": [
    {
     "name": "stdout",
     "output_type": "stream",
     "text": [
      "\n",
      "===== filtered1_resumes.csv =====\n",
      "Normalized_Label\n",
      "software_developer        5828\n",
      "systems_administrator     4182\n",
      "web_developer             3466\n",
      "database_administrator    2784\n",
      "java_developer            2418\n",
      "network_administrator     2260\n",
      "Name: count, dtype: int64\n",
      "\n",
      "===== filtered2_resumes.csv =====\n",
      "Category\n",
      "Backend Developer       57\n",
      "Frontend Developer      54\n",
      "Data Scientist          53\n",
      "Full Stack Developer    47\n",
      "Name: count, dtype: int64\n",
      "\n",
      "===== filtered3_resumes.csv =====\n",
      "Category\n",
      "SALES    116\n",
      "HR       110\n",
      "Name: count, dtype: int64\n",
      "\n",
      "===== filtered4_resumes.csv =====\n",
      "Category\n",
      "Java Developer               84\n",
      "HR                           44\n",
      "Data Science                 40\n",
      "Sales                        40\n",
      "Database                     33\n",
      "Network Security Engineer    25\n",
      "Name: count, dtype: int64\n",
      "\n",
      "===== filtered_job_descriptions.csv =====\n",
      "Job Title\n",
      "Network Administrator     17581\n",
      "Systems Administrator     17281\n",
      "Java Developer            10589\n",
      "Sales Manager             10417\n",
      "HR Manager                10405\n",
      "Web Developer             10361\n",
      "Database Administrator    10280\n",
      "Data Scientist             6940\n",
      "Software Developer         3517\n",
      "Name: count, dtype: int64\n"
     ]
    }
   ],
   "source": [
    "import pandas as pd\n",
    "\n",
    "# List of filtered files and their label columns\n",
    "datasets = [\n",
    "    ('filtered1_resumes.csv', 'Normalized_Label'),\n",
    "    ('filtered2_resumes.csv', 'Category'),\n",
    "    ('filtered3_resumes.csv', 'Category'),\n",
    "    ('filtered4_resumes.csv', 'Category'),\n",
    "    ('filtered_job_descriptions.csv', 'Job Title')\n",
    "]\n",
    "\n",
    "# Loop through each file, load it, and print unique labels with counts\n",
    "for filename, label_col in datasets:\n",
    "    print(f\"\\n===== {filename} =====\")\n",
    "    try:\n",
    "        df = pd.read_csv(filename)\n",
    "        label_counts = df[label_col].value_counts()\n",
    "        print(label_counts)\n",
    "    except Exception as e:\n",
    "        print(f\"Failed to read {filename}: {e}\")\n"
   ]
  },
  {
   "cell_type": "code",
   "execution_count": 7,
   "id": "632bb51b-20d4-4b57-a8e9-eeae3361f151",
   "metadata": {},
   "outputs": [
    {
     "name": "stdout",
     "output_type": "stream",
     "text": [
      "['Web Developer' 'Software Developer' 'Data Scientist']\n"
     ]
    }
   ],
   "source": [
    "import pandas as pd\n",
    "\n",
    "# Load the dataset\n",
    "df = pd.read_csv(\"filtered2_resumes.csv\")\n",
    "\n",
    "# Rename categories\n",
    "df[\"Category\"] = df[\"Category\"].replace({\n",
    "    \"Frontend Developer\": \"Web Developer\",\n",
    "    \"Full Stack Developer\": \"Web Developer\",\n",
    "    \"Backend Developer\": \"Software Developer\"\n",
    "})\n",
    "\n",
    "# (Optional) Save to a new file if needed\n",
    "df.to_csv(\"updated_filtered2_resumes.csv\", index=False)\n"
   ]
  },
  {
   "cell_type": "code",
   "execution_count": 9,
   "id": "f8481d97-3d5a-46cf-9e85-66cd306aaf2c",
   "metadata": {},
   "outputs": [
    {
     "name": "stdout",
     "output_type": "stream",
     "text": [
      "Category\n",
      "Web Developer         101\n",
      "Software Developer     57\n",
      "Data Scientist         53\n",
      "Name: count, dtype: int64\n"
     ]
    }
   ],
   "source": [
    "# Count each unique category\n",
    "category_counts = df[\"Category\"].value_counts()\n",
    "\n",
    "# Display the counts\n",
    "print(category_counts)"
   ]
  },
  {
   "cell_type": "code",
   "execution_count": 11,
   "id": "c3769bc2-6584-4db4-a7d8-746a7cf2fc28",
   "metadata": {},
   "outputs": [
    {
     "name": "stdout",
     "output_type": "stream",
     "text": [
      "Normalized_Label\n",
      "Software Developer        5828\n",
      "Systems Administrator     4182\n",
      "Web Developer             3466\n",
      "Database Administrator    2784\n",
      "Java Developer            2418\n",
      "Network Administrator     2260\n",
      "Name: count, dtype: int64\n"
     ]
    }
   ],
   "source": [
    "import pandas as pd\n",
    "\n",
    "# Load the dataset\n",
    "df = pd.read_csv(\"filtered1_resumes.csv\")\n",
    "\n",
    "# Rename Normalized_Label values\n",
    "df[\"Normalized_Label\"] = df[\"Normalized_Label\"].replace({\n",
    "    \"software_developer\": \"Software Developer\",\n",
    "    \"systems_administrator\": \"Systems Administrator\",\n",
    "    \"web_developer\": \"Web Developer\",\n",
    "    \"database_administrator\": \"Database Administrator\",\n",
    "    \"java_developer\": \"Java Developer\",\n",
    "    \"network_administrator\": \"Network Administrator\"\n",
    "})\n",
    "\n",
    "# Count and print unique values\n",
    "label_counts = df[\"Normalized_Label\"].value_counts()\n",
    "print(label_counts)\n",
    "\n",
    "# Save to a new CSV file\n",
    "df.to_csv(\"updated_filtered1_resumes.csv\", index=False)"
   ]
  },
  {
   "cell_type": "code",
   "execution_count": 43,
   "id": "9c80b3d5-4b56-4e98-9e50-b1db86bfe3b6",
   "metadata": {},
   "outputs": [
    {
     "name": "stdout",
     "output_type": "stream",
     "text": [
      "Category\n",
      "Sales Manager    116\n",
      "HR Manager       110\n",
      "Name: count, dtype: int64\n"
     ]
    }
   ],
   "source": [
    "import pandas as pd\n",
    "\n",
    "# Load the dataset\n",
    "df = pd.read_csv(\"filtered3_resumes.csv\")\n",
    "\n",
    "# Rename categories\n",
    "df[\"Category\"] = df[\"Category\"].replace({\n",
    "    \"SALES\": \"Sales Manager\",\n",
    "    \"HR\": \"HR Manager\"\n",
    "})\n",
    "\n",
    "# Print unique values with their counts\n",
    "category_counts = df[\"Category\"].value_counts()\n",
    "print(category_counts)\n",
    "\n",
    "# Save the updated DataFrame to a new CSV\n",
    "df.to_csv(\"updated_filtered3_resumes.csv\", index=False)"
   ]
  },
  {
   "cell_type": "code",
   "execution_count": 51,
   "id": "51a08c37-914f-4907-bdac-4b7064ba11d3",
   "metadata": {},
   "outputs": [
    {
     "name": "stdout",
     "output_type": "stream",
     "text": [
      "Category\n",
      "Java Developer            84\n",
      "HR Manager                44\n",
      "Data Scientist            40\n",
      "Sales Manager             40\n",
      "Database Administrator    33\n",
      "Network Administrator     25\n",
      "Name: count, dtype: int64\n"
     ]
    }
   ],
   "source": [
    "import pandas as pd\n",
    "\n",
    "# Load the dataset\n",
    "df = pd.read_csv(\"filtered4_resumes.csv\")\n",
    "\n",
    "# Rename categories\n",
    "df[\"Category\"] = df[\"Category\"].replace({\n",
    "    \"HR\": \"HR Manager\",\n",
    "    \"Data Science\": \"Data Scientist\",\n",
    "    \"Sales\": \"Sales Manager\",\n",
    "    \"Database\": \"Database Administrator\",\n",
    "    \"Network Security Engineer\": \"Network Administrator\"\n",
    "    \n",
    "})\n",
    "# Print unique values with their counts\n",
    "category_counts = df[\"Category\"].value_counts()\n",
    "print(category_counts)\n",
    "\n",
    "# Save the updated DataFrame to a new CSV\n",
    "df.to_csv(\"updated_filtered4_resumes.csv\", index=False)"
   ]
  },
  {
   "cell_type": "code",
   "execution_count": 33,
   "id": "d57d432f-748b-4a39-8a53-e2d8981ca607",
   "metadata": {},
   "outputs": [
    {
     "name": "stdout",
     "output_type": "stream",
     "text": [
      "filtered1: (20938, 3)\n",
      "filtered2: (211, 2)\n",
      "filtered3: (226, 4)\n",
      "filtered4: (226, 4)\n"
     ]
    }
   ],
   "source": [
    "import pandas as pd\n",
    "\n",
    "# Load updated datasets\n",
    "df1 = pd.read_csv(\"updated_filtered1_resumes.csv\")\n",
    "df2 = pd.read_csv(\"updated_filtered2_resumes.csv\")\n",
    "df3 = pd.read_csv(\"updated_filtered3_resumes.csv\")\n",
    "df4 = pd.read_csv(\"updated_filtered4_resumes.csv\")\n",
    "\n",
    "# Optional: print their shapes or a few rows to confirm\n",
    "print(\"filtered1:\", df1.shape)\n",
    "print(\"filtered2:\", df2.shape)\n",
    "print(\"filtered3:\", df3.shape)\n",
    "print(\"filtered4:\", df4.shape)"
   ]
  },
  {
   "cell_type": "code",
   "execution_count": 31,
   "id": "e9ebeadb-482b-4f3f-84cd-58d7223ecf67",
   "metadata": {},
   "outputs": [
    {
     "data": {
      "text/html": [
       "<div>\n",
       "<style scoped>\n",
       "    .dataframe tbody tr th:only-of-type {\n",
       "        vertical-align: middle;\n",
       "    }\n",
       "\n",
       "    .dataframe tbody tr th {\n",
       "        vertical-align: top;\n",
       "    }\n",
       "\n",
       "    .dataframe thead th {\n",
       "        text-align: right;\n",
       "    }\n",
       "</style>\n",
       "<table border=\"1\" class=\"dataframe\">\n",
       "  <thead>\n",
       "    <tr style=\"text-align: right;\">\n",
       "      <th></th>\n",
       "      <th>File_ID</th>\n",
       "      <th>Resume_Text</th>\n",
       "      <th>Normalized_Label</th>\n",
       "    </tr>\n",
       "  </thead>\n",
       "  <tbody>\n",
       "    <tr>\n",
       "      <th>0</th>\n",
       "      <td>1</td>\n",
       "      <td>Database Administrator Database Administrator ...</td>\n",
       "      <td>Database Administrator</td>\n",
       "    </tr>\n",
       "    <tr>\n",
       "      <th>1</th>\n",
       "      <td>2</td>\n",
       "      <td>Database Administrator Database Administrator ...</td>\n",
       "      <td>Database Administrator</td>\n",
       "    </tr>\n",
       "    <tr>\n",
       "      <th>2</th>\n",
       "      <td>3</td>\n",
       "      <td>Oracle Database Administrator Oracle Database ...</td>\n",
       "      <td>Database Administrator</td>\n",
       "    </tr>\n",
       "    <tr>\n",
       "      <th>3</th>\n",
       "      <td>4</td>\n",
       "      <td>Amazon Redshift Administrator and ETL Develope...</td>\n",
       "      <td>Database Administrator</td>\n",
       "    </tr>\n",
       "    <tr>\n",
       "      <th>4</th>\n",
       "      <td>5</td>\n",
       "      <td>Scrum Master Scrum Master Scrum Master Richmon...</td>\n",
       "      <td>Database Administrator</td>\n",
       "    </tr>\n",
       "  </tbody>\n",
       "</table>\n",
       "</div>"
      ],
      "text/plain": [
       "   File_ID                                        Resume_Text  \\\n",
       "0        1  Database Administrator Database Administrator ...   \n",
       "1        2  Database Administrator Database Administrator ...   \n",
       "2        3  Oracle Database Administrator Oracle Database ...   \n",
       "3        4  Amazon Redshift Administrator and ETL Develope...   \n",
       "4        5  Scrum Master Scrum Master Scrum Master Richmon...   \n",
       "\n",
       "         Normalized_Label  \n",
       "0  Database Administrator  \n",
       "1  Database Administrator  \n",
       "2  Database Administrator  \n",
       "3  Database Administrator  \n",
       "4  Database Administrator  "
      ]
     },
     "execution_count": 31,
     "metadata": {},
     "output_type": "execute_result"
    }
   ],
   "source": [
    "df1 = pd.read_csv(\"updated_filtered1_resumes.csv\")\n",
    "df1.head()"
   ]
  },
  {
   "cell_type": "code",
   "execution_count": 35,
   "id": "6a473163-5232-40a0-8c99-99e27dcc5855",
   "metadata": {},
   "outputs": [
    {
     "data": {
      "text/html": [
       "<div>\n",
       "<style scoped>\n",
       "    .dataframe tbody tr th:only-of-type {\n",
       "        vertical-align: middle;\n",
       "    }\n",
       "\n",
       "    .dataframe tbody tr th {\n",
       "        vertical-align: top;\n",
       "    }\n",
       "\n",
       "    .dataframe thead th {\n",
       "        text-align: right;\n",
       "    }\n",
       "</style>\n",
       "<table border=\"1\" class=\"dataframe\">\n",
       "  <thead>\n",
       "    <tr style=\"text-align: right;\">\n",
       "      <th></th>\n",
       "      <th>Category</th>\n",
       "      <th>Resume</th>\n",
       "    </tr>\n",
       "  </thead>\n",
       "  <tbody>\n",
       "    <tr>\n",
       "      <th>0</th>\n",
       "      <td>Web Developer</td>\n",
       "      <td>As a seasoned Frontend Developer, I have a pro...</td>\n",
       "    </tr>\n",
       "    <tr>\n",
       "      <th>1</th>\n",
       "      <td>Software Developer</td>\n",
       "      <td>With a solid background in Backend Development...</td>\n",
       "    </tr>\n",
       "    <tr>\n",
       "      <th>2</th>\n",
       "      <td>Data Scientist</td>\n",
       "      <td>With a background in Data Science, I possess a...</td>\n",
       "    </tr>\n",
       "    <tr>\n",
       "      <th>3</th>\n",
       "      <td>Web Developer</td>\n",
       "      <td>Experienced Frontend Developer with a passion ...</td>\n",
       "    </tr>\n",
       "    <tr>\n",
       "      <th>4</th>\n",
       "      <td>Web Developer</td>\n",
       "      <td>Passionate Frontend Developer with over 4 year...</td>\n",
       "    </tr>\n",
       "  </tbody>\n",
       "</table>\n",
       "</div>"
      ],
      "text/plain": [
       "             Category                                             Resume\n",
       "0       Web Developer  As a seasoned Frontend Developer, I have a pro...\n",
       "1  Software Developer  With a solid background in Backend Development...\n",
       "2      Data Scientist  With a background in Data Science, I possess a...\n",
       "3       Web Developer  Experienced Frontend Developer with a passion ...\n",
       "4       Web Developer  Passionate Frontend Developer with over 4 year..."
      ]
     },
     "execution_count": 35,
     "metadata": {},
     "output_type": "execute_result"
    }
   ],
   "source": [
    "df2 = pd.read_csv(\"updated_filtered2_resumes.csv\")\n",
    "df2.head()"
   ]
  },
  {
   "cell_type": "code",
   "execution_count": 55,
   "id": "6e151a53-6d72-4afc-9a87-5264c1bcd7e2",
   "metadata": {},
   "outputs": [
    {
     "data": {
      "text/html": [
       "<div>\n",
       "<style scoped>\n",
       "    .dataframe tbody tr th:only-of-type {\n",
       "        vertical-align: middle;\n",
       "    }\n",
       "\n",
       "    .dataframe tbody tr th {\n",
       "        vertical-align: top;\n",
       "    }\n",
       "\n",
       "    .dataframe thead th {\n",
       "        text-align: right;\n",
       "    }\n",
       "</style>\n",
       "<table border=\"1\" class=\"dataframe\">\n",
       "  <thead>\n",
       "    <tr style=\"text-align: right;\">\n",
       "      <th></th>\n",
       "      <th>ID</th>\n",
       "      <th>Resume_str</th>\n",
       "      <th>Resume_html</th>\n",
       "      <th>Category</th>\n",
       "    </tr>\n",
       "  </thead>\n",
       "  <tbody>\n",
       "    <tr>\n",
       "      <th>0</th>\n",
       "      <td>16852973</td>\n",
       "      <td>HR ADMINISTRATOR/MARKETING ASSOCIATE\\...</td>\n",
       "      <td>&lt;div class=\"fontsize fontface vmargins hmargin...</td>\n",
       "      <td>HR Manager</td>\n",
       "    </tr>\n",
       "    <tr>\n",
       "      <th>1</th>\n",
       "      <td>22323967</td>\n",
       "      <td>HR SPECIALIST, US HR OPERATIONS      ...</td>\n",
       "      <td>&lt;div class=\"fontsize fontface vmargins hmargin...</td>\n",
       "      <td>HR Manager</td>\n",
       "    </tr>\n",
       "    <tr>\n",
       "      <th>2</th>\n",
       "      <td>33176873</td>\n",
       "      <td>HR DIRECTOR       Summary      Over 2...</td>\n",
       "      <td>&lt;div class=\"fontsize fontface vmargins hmargin...</td>\n",
       "      <td>HR Manager</td>\n",
       "    </tr>\n",
       "    <tr>\n",
       "      <th>3</th>\n",
       "      <td>27018550</td>\n",
       "      <td>HR SPECIALIST       Summary    Dedica...</td>\n",
       "      <td>&lt;div class=\"fontsize fontface vmargins hmargin...</td>\n",
       "      <td>HR Manager</td>\n",
       "    </tr>\n",
       "    <tr>\n",
       "      <th>4</th>\n",
       "      <td>17812897</td>\n",
       "      <td>HR MANAGER         Skill Highlights  ...</td>\n",
       "      <td>&lt;div class=\"fontsize fontface vmargins hmargin...</td>\n",
       "      <td>HR Manager</td>\n",
       "    </tr>\n",
       "  </tbody>\n",
       "</table>\n",
       "</div>"
      ],
      "text/plain": [
       "         ID                                         Resume_str  \\\n",
       "0  16852973           HR ADMINISTRATOR/MARKETING ASSOCIATE\\...   \n",
       "1  22323967           HR SPECIALIST, US HR OPERATIONS      ...   \n",
       "2  33176873           HR DIRECTOR       Summary      Over 2...   \n",
       "3  27018550           HR SPECIALIST       Summary    Dedica...   \n",
       "4  17812897           HR MANAGER         Skill Highlights  ...   \n",
       "\n",
       "                                         Resume_html    Category  \n",
       "0  <div class=\"fontsize fontface vmargins hmargin...  HR Manager  \n",
       "1  <div class=\"fontsize fontface vmargins hmargin...  HR Manager  \n",
       "2  <div class=\"fontsize fontface vmargins hmargin...  HR Manager  \n",
       "3  <div class=\"fontsize fontface vmargins hmargin...  HR Manager  \n",
       "4  <div class=\"fontsize fontface vmargins hmargin...  HR Manager  "
      ]
     },
     "execution_count": 55,
     "metadata": {},
     "output_type": "execute_result"
    }
   ],
   "source": [
    "df3 = pd.read_csv(\"updated_filtered3_resumes.csv\")\n",
    "df3.head()"
   ]
  },
  {
   "cell_type": "code",
   "execution_count": 57,
   "id": "5b0c632c-d67f-40b4-ac9a-23040b28eadf",
   "metadata": {},
   "outputs": [
    {
     "data": {
      "text/html": [
       "<div>\n",
       "<style scoped>\n",
       "    .dataframe tbody tr th:only-of-type {\n",
       "        vertical-align: middle;\n",
       "    }\n",
       "\n",
       "    .dataframe tbody tr th {\n",
       "        vertical-align: top;\n",
       "    }\n",
       "\n",
       "    .dataframe thead th {\n",
       "        text-align: right;\n",
       "    }\n",
       "</style>\n",
       "<table border=\"1\" class=\"dataframe\">\n",
       "  <thead>\n",
       "    <tr style=\"text-align: right;\">\n",
       "      <th></th>\n",
       "      <th>Category</th>\n",
       "      <th>Resume</th>\n",
       "    </tr>\n",
       "  </thead>\n",
       "  <tbody>\n",
       "    <tr>\n",
       "      <th>0</th>\n",
       "      <td>Data Scientist</td>\n",
       "      <td>Skills * Programming Languages: Python (pandas...</td>\n",
       "    </tr>\n",
       "    <tr>\n",
       "      <th>1</th>\n",
       "      <td>Data Scientist</td>\n",
       "      <td>Education Details \\r\\nMay 2013 to May 2017 B.E...</td>\n",
       "    </tr>\n",
       "    <tr>\n",
       "      <th>2</th>\n",
       "      <td>Data Scientist</td>\n",
       "      <td>Areas of Interest Deep Learning, Control Syste...</td>\n",
       "    </tr>\n",
       "    <tr>\n",
       "      <th>3</th>\n",
       "      <td>Data Scientist</td>\n",
       "      <td>Skills â¢ R â¢ Python â¢ SAP HANA â¢ Table...</td>\n",
       "    </tr>\n",
       "    <tr>\n",
       "      <th>4</th>\n",
       "      <td>Data Scientist</td>\n",
       "      <td>Education Details \\r\\n MCA   YMCAUST,  Faridab...</td>\n",
       "    </tr>\n",
       "  </tbody>\n",
       "</table>\n",
       "</div>"
      ],
      "text/plain": [
       "         Category                                             Resume\n",
       "0  Data Scientist  Skills * Programming Languages: Python (pandas...\n",
       "1  Data Scientist  Education Details \\r\\nMay 2013 to May 2017 B.E...\n",
       "2  Data Scientist  Areas of Interest Deep Learning, Control Syste...\n",
       "3  Data Scientist  Skills â¢ R â¢ Python â¢ SAP HANA â¢ Table...\n",
       "4  Data Scientist  Education Details \\r\\n MCA   YMCAUST,  Faridab..."
      ]
     },
     "execution_count": 57,
     "metadata": {},
     "output_type": "execute_result"
    }
   ],
   "source": [
    "df4 = pd.read_csv(\"updated_filtered4_resumes.csv\")\n",
    "df4.head()"
   ]
  },
  {
   "cell_type": "code",
   "execution_count": null,
   "id": "15fe7b34-2b63-4707-8505-457839ee0cc8",
   "metadata": {},
   "outputs": [],
   "source": []
  }
 ],
 "metadata": {
  "kernelspec": {
   "display_name": "Python 3 (ipykernel)",
   "language": "python",
   "name": "python3"
  },
  "language_info": {
   "codemirror_mode": {
    "name": "ipython",
    "version": 3
   },
   "file_extension": ".py",
   "mimetype": "text/x-python",
   "name": "python",
   "nbconvert_exporter": "python",
   "pygments_lexer": "ipython3",
   "version": "3.12.7"
  }
 },
 "nbformat": 4,
 "nbformat_minor": 5
}
