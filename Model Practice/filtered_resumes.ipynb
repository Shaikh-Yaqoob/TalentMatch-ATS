{
 "cells": [
  {
   "cell_type": "code",
   "execution_count": 1,
   "id": "93fd648c-e6ff-40f6-b2b6-97759bc69475",
   "metadata": {},
   "outputs": [],
   "source": [
    "import pandas as pd\n",
    "\n",
    "# Load the CSV\n",
    "df = pd.read_csv('preprocessed_resumes.csv')"
   ]
  },
  {
   "cell_type": "code",
   "execution_count": 3,
   "id": "3998ef17-a8f3-4ee0-bb16-5eb756e84f07",
   "metadata": {},
   "outputs": [],
   "source": [
    "# List of relevant labels\n",
    "desired_labels = [\n",
    "    'database_administrator',\n",
    "    'web_developer',\n",
    "    'java_developer',\n",
    "    'systems_administrator',\n",
    "    'network_administrator',\n",
    "    'software_developer'\n",
    "]\n",
    "\n",
    "# Filter the dataframe\n",
    "filtered_df = df[df['Normalized_Label'].isin(desired_labels)]"
   ]
  },
  {
   "cell_type": "code",
   "execution_count": 5,
   "id": "9385f28b-7c84-4d1c-b2c7-c88d26b101fe",
   "metadata": {},
   "outputs": [],
   "source": [
    "# Optionally save to a new file\n",
    "filtered_df.to_csv('filtered1_resumes.csv', index=False)"
   ]
  },
  {
   "cell_type": "code",
   "execution_count": 7,
   "id": "121d34b1-6074-4bf9-a032-9b8f86d0acc9",
   "metadata": {},
   "outputs": [],
   "source": [
    "# Load the CSV\n",
    "data1 = pd.read_csv('gpt_dataset.csv')"
   ]
  },
  {
   "cell_type": "code",
   "execution_count": 9,
   "id": "cd030205-ac22-42f3-8313-c2ce7d800af9",
   "metadata": {},
   "outputs": [],
   "source": [
    "# Desired categories based on closest matches\n",
    "desired_categories = [\n",
    "    'Frontend Developer',\n",
    "    'Backend Developer',\n",
    "    'Full Stack Developer',\n",
    "    'Data Scientist'\n",
    "]"
   ]
  },
  {
   "cell_type": "code",
   "execution_count": 11,
   "id": "43135cdd-0fa5-4b5f-ad0e-4470a3a76a6f",
   "metadata": {},
   "outputs": [],
   "source": [
    "# Filter the dataframe\n",
    "filtered_gpt = data1[data1['Category'].isin(desired_categories)]"
   ]
  },
  {
   "cell_type": "code",
   "execution_count": 13,
   "id": "0915dde2-f89b-4386-8afe-ee0be9305827",
   "metadata": {},
   "outputs": [],
   "source": [
    "# Optionally save\n",
    "filtered_gpt.to_csv('filtered2_resumes.csv', index=False)"
   ]
  },
  {
   "cell_type": "code",
   "execution_count": 15,
   "id": "93c96f91-07d4-4ba3-bb44-4b9f0a8d265f",
   "metadata": {},
   "outputs": [],
   "source": [
    "# Load the CSV\n",
    "data2 = pd.read_csv('Resume.csv')"
   ]
  },
  {
   "cell_type": "code",
   "execution_count": 19,
   "id": "e1d78ae4-aed8-4da6-80cf-fd5adbdcce1b",
   "metadata": {},
   "outputs": [],
   "source": [
    "# Target categories\n",
    "desired_categories = [\n",
    "    'HR',\n",
    "    'SALES'\n",
    "]"
   ]
  },
  {
   "cell_type": "code",
   "execution_count": 21,
   "id": "a5b4944f-1f9b-4b45-99bd-e5b447260c89",
   "metadata": {},
   "outputs": [],
   "source": [
    "# Filter the dataframe\n",
    "filtered_resume = data2[data2['Category'].isin(desired_categories)]\n",
    "\n",
    "# Optionally save it\n",
    "filtered_resume.to_csv('filtered3_resumes.csv', index=False)"
   ]
  },
  {
   "cell_type": "code",
   "execution_count": 23,
   "id": "9df69578-e6b4-486e-8a49-68ef8e54f976",
   "metadata": {},
   "outputs": [],
   "source": [
    "# Load the dataset\n",
    "data3 = pd.read_csv('UpdatedResumeDataSet.csv')"
   ]
  },
  {
   "cell_type": "code",
   "execution_count": 25,
   "id": "efc62bf2-c29e-4323-834e-d2c2e792ee40",
   "metadata": {},
   "outputs": [],
   "source": [
    "# Define relevant categories\n",
    "desired_categories = [\n",
    "    'Database',\n",
    "    'Java Developer',\n",
    "    'Network Security Engineer',\n",
    "    'Sales',\n",
    "    'HR',\n",
    "    'Data Science'\n",
    "]\n",
    "\n",
    "# Filter the dataset\n",
    "filtered_updated = data3[data3['Category'].isin(desired_categories)]"
   ]
  },
  {
   "cell_type": "code",
   "execution_count": 27,
   "id": "22b95434-cda5-482d-90ea-34fb51469653",
   "metadata": {},
   "outputs": [],
   "source": [
    "# Save to new file\n",
    "filtered_updated.to_csv('filtered4_resumes.csv', index=False)"
   ]
  },
  {
   "cell_type": "code",
   "execution_count": 29,
   "id": "e4242cdf-7ff0-4aa1-ac1d-0b035dee9a92",
   "metadata": {},
   "outputs": [],
   "source": [
    "# Load the dataset\n",
    "data4 = pd.read_csv('job_descriptions.csv')"
   ]
  },
  {
   "cell_type": "code",
   "execution_count": 31,
   "id": "ca5b8981-d4dc-4560-97f0-ee68fdd15226",
   "metadata": {},
   "outputs": [],
   "source": [
    "# Your target job titles\n",
    "target_titles = [\n",
    "    'Database Administrator',\n",
    "    'Web Developer',\n",
    "    'Java Developer',\n",
    "    'Systems Administrator',\n",
    "    'Network Administrator',\n",
    "    'Software Developer',\n",
    "    'Sales Manager',\n",
    "    'HR Manager',\n",
    "    'Data Scientist'\n",
    "]"
   ]
  },
  {
   "cell_type": "code",
   "execution_count": 33,
   "id": "287721d6-c3d4-470c-80dc-a8b1d3c3941e",
   "metadata": {},
   "outputs": [],
   "source": [
    "# Filter the dataset\n",
    "filtered_jobs = data4[data4['Job Title'].isin(target_titles)]"
   ]
  },
  {
   "cell_type": "code",
   "execution_count": 35,
   "id": "50a17cbb-6078-47a2-a103-d4c2d5835d4e",
   "metadata": {},
   "outputs": [],
   "source": [
    "# Save to new file\n",
    "filtered_jobs.to_csv('filtered_job_descriptions.csv', index=False)"
   ]
  },
  {
   "cell_type": "code",
   "execution_count": null,
   "id": "d79df5a7-64f6-41a2-a3a8-98cbd4430cd8",
   "metadata": {},
   "outputs": [],
   "source": []
  }
 ],
 "metadata": {
  "kernelspec": {
   "display_name": "Python 3 (ipykernel)",
   "language": "python",
   "name": "python3"
  },
  "language_info": {
   "codemirror_mode": {
    "name": "ipython",
    "version": 3
   },
   "file_extension": ".py",
   "mimetype": "text/x-python",
   "name": "python",
   "nbconvert_exporter": "python",
   "pygments_lexer": "ipython3",
   "version": "3.12.7"
  }
 },
 "nbformat": 4,
 "nbformat_minor": 5
}
