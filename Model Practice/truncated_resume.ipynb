{
  "nbformat": 4,
  "nbformat_minor": 0,
  "metadata": {
    "colab": {
      "provenance": []
    },
    "kernelspec": {
      "name": "python3",
      "display_name": "Python 3"
    },
    "language_info": {
      "name": "python"
    }
  },
  "cells": [
    {
      "cell_type": "code",
      "execution_count": 1,
      "metadata": {
        "colab": {
          "base_uri": "https://localhost:8080/"
        },
        "id": "J7zmgmKRXfEl",
        "outputId": "d398e5e7-59aa-4226-b1cd-0a9152ff4120"
      },
      "outputs": [
        {
          "output_type": "stream",
          "name": "stdout",
          "text": [
            "Mounted at /content/drive\n"
          ]
        }
      ],
      "source": [
        "from google.colab import drive\n",
        "drive.mount('/content/drive')"
      ]
    },
    {
      "cell_type": "code",
      "source": [
        "import pandas as pd\n",
        "\n",
        "# Load the labeled dataset\n",
        "file_path = \"/content/drive/MyDrive/Colab Notebooks/FYP/resume_jd_labeled_buckets.csv\""
      ],
      "metadata": {
        "id": "PZRN26WlYVRK"
      },
      "execution_count": 5,
      "outputs": []
    },
    {
      "cell_type": "code",
      "source": [
        "from transformers import AutoTokenizer"
      ],
      "metadata": {
        "id": "YqwJNumAYrF4"
      },
      "execution_count": 3,
      "outputs": []
    },
    {
      "cell_type": "code",
      "source": [
        "\n",
        "\n",
        "# Load tokenizer\n",
        "model_name = \"microsoft/deberta-v3-base\"\n",
        "tokenizer = AutoTokenizer.from_pretrained(model_name)\n",
        "\n",
        "# Smart truncation function\n",
        "def smart_truncate(resume_text, jd_text, max_total_tokens=512, min_jd_tokens=100):\n",
        "    jd_tokens = tokenizer.tokenize(jd_text)\n",
        "    resume_tokens = tokenizer.tokenize(resume_text)\n",
        "\n",
        "    available_for_resume = max_total_tokens - len(jd_tokens)\n",
        "\n",
        "    if available_for_resume < 0:\n",
        "        jd_tokens = jd_tokens[:min_jd_tokens]\n",
        "        available_for_resume = max_total_tokens - len(jd_tokens)\n",
        "\n",
        "    if len(resume_tokens) > available_for_resume:\n",
        "        resume_tokens = resume_tokens[:available_for_resume]\n",
        "\n",
        "    truncated_resume = tokenizer.convert_tokens_to_string(resume_tokens)\n",
        "    truncated_jd = tokenizer.convert_tokens_to_string(jd_tokens)\n",
        "\n",
        "    return truncated_resume, truncated_jd\n",
        "\n",
        "# --- YOUR dataset ---\n",
        "import pandas as pd\n",
        "\n",
        "# Assuming you already loaded your CSV\n",
        "df = pd.read_csv(file_path)\n",
        "\n",
        "# Now apply smart truncation using your real columns: \"Resume\" and \"Job_Description\"\n",
        "new_resume_texts = []\n",
        "new_jd_texts = []\n",
        "\n",
        "for idx, row in df.iterrows():\n",
        "    resume, jd = smart_truncate(row[\"Resume\"], row[\"Job_Description\"])\n",
        "    new_resume_texts.append(resume)\n",
        "    new_jd_texts.append(jd)\n",
        "\n",
        "# Add the truncated versions into new columns\n",
        "df[\"Resume_truncated\"] = new_resume_texts\n",
        "df[\"Job_Description_truncated\"] = new_jd_texts\n",
        "\n",
        "print(\"✅ Truncation done! Your dataset is ready for training.\")"
      ],
      "metadata": {
        "colab": {
          "base_uri": "https://localhost:8080/"
        },
        "id": "aUKPW4MLYhCh",
        "outputId": "472ec1ec-f152-4446-b627-5f9ad367fcf2"
      },
      "execution_count": 6,
      "outputs": [
        {
          "output_type": "stream",
          "name": "stdout",
          "text": [
            "✅ Truncation done! Your dataset is ready for training.\n"
          ]
        }
      ]
    },
    {
      "cell_type": "code",
      "source": [
        "save_path = \"/content/drive/MyDrive/Colab Notebooks/FYP/your_dataset_truncated.csv\"\n",
        "df.to_csv(save_path, index=False)\n",
        "\n",
        "print(f\"✅ File saved successfully at: {save_path}\")"
      ],
      "metadata": {
        "colab": {
          "base_uri": "https://localhost:8080/"
        },
        "id": "QkDjaOe7Y1Xg",
        "outputId": "3f7c1122-4084-4b7d-ddcb-069c173f00af"
      },
      "execution_count": 7,
      "outputs": [
        {
          "output_type": "stream",
          "name": "stdout",
          "text": [
            "✅ File saved successfully at: /content/drive/MyDrive/Colab Notebooks/FYP/your_dataset_truncated.csv\n"
          ]
        }
      ]
    },
    {
      "cell_type": "code",
      "source": [],
      "metadata": {
        "id": "U1FaRMOSbBDh"
      },
      "execution_count": null,
      "outputs": []
    }
  ]
}