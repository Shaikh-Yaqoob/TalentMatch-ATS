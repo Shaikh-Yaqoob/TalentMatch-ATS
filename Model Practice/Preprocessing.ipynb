{
 "cells": [
  {
   "cell_type": "code",
   "execution_count": 11,
   "id": "5bf3409f-9843-4b39-a0da-87613ccb7395",
   "metadata": {},
   "outputs": [],
   "source": [
    "import pandas as pd"
   ]
  },
  {
   "cell_type": "code",
   "execution_count": 15,
   "id": "28ebdc83-63dd-43e2-89f5-a22e23575e5e",
   "metadata": {},
   "outputs": [
    {
     "name": "stdout",
     "output_type": "stream",
     "text": [
      "\n",
      "Saved cleaned file:\n",
      "Columns: Index(['Resume', 'Category'], dtype='object')\n",
      "Total rows: 22386\n",
      "Unique Categories and Their Counts:\n",
      "Category\n",
      "Software Developer        5668\n",
      "Systems Administrator     3992\n",
      "Web Developer             3422\n",
      "Database Administrator    2766\n",
      "Java Developer            2350\n",
      "Network Administrator     2188\n",
      "Data Scientist            2000\n",
      "Name: count, dtype: int64\n"
     ]
    }
   ],
   "source": [
    "# Step 9: Verify the saved cleaned dataset\n",
    "Resume = pd.read_csv('resumes_filtered_deduplicated_utf8.csv')\n",
    "print(\"\\nSaved cleaned file:\")\n",
    "print(\"Columns:\", Resume.columns)\n",
    "print(\"Total rows:\", len(Resume))\n",
    "print(\"Unique Categories and Their Counts:\")\n",
    "print(Resume['Category'].value_counts())"
   ]
  },
  {
   "cell_type": "code",
   "execution_count": 21,
   "id": "f717b733-2b53-4798-aa46-1b47fd4f380d",
   "metadata": {},
   "outputs": [
    {
     "name": "stdout",
     "output_type": "stream",
     "text": [
      "\n",
      "Saved cleaned file:\n",
      "Columns: Index(['Job Id', 'Experience', 'Qualifications', 'Salary Range', 'location',\n",
      "       'Country', 'latitude', 'longitude', 'Work Type', 'Company Size',\n",
      "       'Job Posting Date', 'Preference', 'Contact Person', 'Contact',\n",
      "       'Job Title', 'Role', 'Job Portal', 'Job Description', 'Benefits',\n",
      "       'skills', 'Responsibilities', 'Company', 'Company Profile'],\n",
      "      dtype='object')\n",
      "Total rows: 97371\n",
      "Unique Categories and Their Counts:\n",
      "Job Title\n",
      "Network Administrator     17581\n",
      "Systems Administrator     17281\n",
      "Java Developer            10589\n",
      "Sales Manager             10417\n",
      "HR Manager                10405\n",
      "Web Developer             10361\n",
      "Database Administrator    10280\n",
      "Data Scientist             6940\n",
      "Software Developer         3517\n",
      "Name: count, dtype: int64\n"
     ]
    }
   ],
   "source": [
    "# Step 9: Verify the saved cleaned dataset\n",
    "JD = pd.read_csv('filtered_job_descriptions.csv')\n",
    "print(\"\\nSaved cleaned file:\")\n",
    "print(\"Columns:\", JD.columns)\n",
    "print(\"Total rows:\", len(JD))\n",
    "print(\"Unique Categories and Their Counts:\")\n",
    "print(JD['Job Title'].value_counts())"
   ]
  },
  {
   "cell_type": "code",
   "execution_count": 23,
   "id": "171db529-e997-4885-bab0-779973490363",
   "metadata": {},
   "outputs": [],
   "source": [
    "import pandas as pd\n",
    "import re"
   ]
  },
  {
   "cell_type": "code",
   "execution_count": 25,
   "id": "a31af78a-1cd2-4ec9-b508-c9a0160d2ba6",
   "metadata": {},
   "outputs": [],
   "source": [
    "# Load JD dataset\n",
    "jd_df = pd.read_csv(\"filtered_job_descriptions.csv\")"
   ]
  },
  {
   "cell_type": "code",
   "execution_count": 27,
   "id": "d8f2ebe1-0f0a-4a0b-979b-0ceb6ceb8781",
   "metadata": {},
   "outputs": [],
   "source": [
    "# ✅ 1. Drop unwanted categories\n",
    "jd_df = jd_df[~jd_df[\"Job Title\"].isin([\"Sales Manager\", \"HR Manager\"])]"
   ]
  },
  {
   "cell_type": "code",
   "execution_count": 29,
   "id": "ae1843d8-2d9a-4379-98d0-a120b9b22801",
   "metadata": {},
   "outputs": [],
   "source": [
    "# ✅ 2. Merge JD fields for rich input\n",
    "for col in [\"Job Description\", \"skills\", \"Responsibilities\", \"Qualifications\", \"Benefits\"]:\n",
    "    jd_df[col] = jd_df[col].fillna(\"\")\n",
    "\n",
    "jd_df[\"JD_Full\"] = (\n",
    "    jd_df[\"Job Title\"] + \" \" +\n",
    "    jd_df[\"Job Description\"] + \" \" +\n",
    "    jd_df[\"skills\"] + \" \" +\n",
    "    jd_df[\"Responsibilities\"] + \" \" +\n",
    "    jd_df[\"Qualifications\"] + \" \" +\n",
    "    jd_df[\"Benefits\"]\n",
    ").str.strip()\n",
    "\n",
    "# ✅ 3. Clean JD text\n",
    "def clean_text(text):\n",
    "    text = str(text).lower()\n",
    "    text = re.sub(r'<.*?>', '', text)\n",
    "    text = re.sub(r'[^a-zA-Z0-9\\s]', '', text)\n",
    "    text = re.sub(r'\\s+', ' ', text).strip()\n",
    "    return text\n",
    "\n",
    "jd_df[\"JD_Full\"] = jd_df[\"JD_Full\"].apply(clean_text)"
   ]
  },
  {
   "cell_type": "code",
   "execution_count": 31,
   "id": "25e674d4-2e86-471d-a048-c125942f16f2",
   "metadata": {},
   "outputs": [],
   "source": [
    "# ✅ 4. Rename and keep only required columns\n",
    "jd_df = jd_df[[\"JD_Full\", \"Job Title\"]].rename(columns={\n",
    "    \"JD_Full\": \"Job_Description\",\n",
    "    \"Job Title\": \"Category\"\n",
    "}).reset_index(drop=True)"
   ]
  },
  {
   "cell_type": "code",
   "execution_count": 33,
   "id": "d9423a04-6472-49f7-b606-21dfd8e9b6c8",
   "metadata": {},
   "outputs": [
    {
     "name": "stdout",
     "output_type": "stream",
     "text": [
      "✅ Cleaned and saved to 'cleaned_jds_filtered.csv'\n"
     ]
    }
   ],
   "source": [
    "# ✅ 5. Save cleaned JD file\n",
    "jd_df.to_csv(\"cleaned_jds_filtered.csv\", index=False, encoding=\"utf-8\")\n",
    "print(\"✅ Cleaned and saved to 'cleaned_jds_filtered.csv'\")"
   ]
  },
  {
   "cell_type": "code",
   "execution_count": 35,
   "id": "3ebfc1f0-5260-425b-b426-785831525f51",
   "metadata": {},
   "outputs": [
    {
     "data": {
      "text/html": [
       "<div>\n",
       "<style scoped>\n",
       "    .dataframe tbody tr th:only-of-type {\n",
       "        vertical-align: middle;\n",
       "    }\n",
       "\n",
       "    .dataframe tbody tr th {\n",
       "        vertical-align: top;\n",
       "    }\n",
       "\n",
       "    .dataframe thead th {\n",
       "        text-align: right;\n",
       "    }\n",
       "</style>\n",
       "<table border=\"1\" class=\"dataframe\">\n",
       "  <thead>\n",
       "    <tr style=\"text-align: right;\">\n",
       "      <th></th>\n",
       "      <th>Job_Description</th>\n",
       "      <th>Category</th>\n",
       "    </tr>\n",
       "  </thead>\n",
       "  <tbody>\n",
       "    <tr>\n",
       "      <th>0</th>\n",
       "      <td>web developer frontend web developers design a...</td>\n",
       "      <td>Web Developer</td>\n",
       "    </tr>\n",
       "    <tr>\n",
       "      <th>1</th>\n",
       "      <td>network administrator protect an organizations...</td>\n",
       "      <td>Network Administrator</td>\n",
       "    </tr>\n",
       "    <tr>\n",
       "      <th>2</th>\n",
       "      <td>systems administrator it support specialists p...</td>\n",
       "      <td>Systems Administrator</td>\n",
       "    </tr>\n",
       "    <tr>\n",
       "      <th>3</th>\n",
       "      <td>database administrator a database developer de...</td>\n",
       "      <td>Database Administrator</td>\n",
       "    </tr>\n",
       "    <tr>\n",
       "      <th>4</th>\n",
       "      <td>software developer mobile app developers desig...</td>\n",
       "      <td>Software Developer</td>\n",
       "    </tr>\n",
       "  </tbody>\n",
       "</table>\n",
       "</div>"
      ],
      "text/plain": [
       "                                     Job_Description                Category\n",
       "0  web developer frontend web developers design a...           Web Developer\n",
       "1  network administrator protect an organizations...   Network Administrator\n",
       "2  systems administrator it support specialists p...   Systems Administrator\n",
       "3  database administrator a database developer de...  Database Administrator\n",
       "4  software developer mobile app developers desig...      Software Developer"
      ]
     },
     "execution_count": 35,
     "metadata": {},
     "output_type": "execute_result"
    }
   ],
   "source": [
    "JD = pd.read_csv(\"cleaned_jds_filtered.csv\")\n",
    "JD.head()"
   ]
  },
  {
   "cell_type": "code",
   "execution_count": 51,
   "id": "f262680b-507d-4b05-b96b-5a79ca934990",
   "metadata": {},
   "outputs": [
    {
     "name": "stdout",
     "output_type": "stream",
     "text": [
      "\n",
      "Saved cleaned file:\n",
      "Columns: Index(['Job_Description', 'Category'], dtype='object')\n",
      "Total rows: 76549\n",
      "Unique Categories and Their Counts:\n",
      "Category\n",
      "Network Administrator     17581\n",
      "Systems Administrator     17281\n",
      "Java Developer            10589\n",
      "Web Developer             10361\n",
      "Database Administrator    10280\n",
      "Data Scientist             6940\n",
      "Software Developer         3517\n",
      "Name: count, dtype: int64\n"
     ]
    }
   ],
   "source": [
    "print(\"\\nSaved cleaned file:\")\n",
    "print(\"Columns:\", JD.columns)\n",
    "print(\"Total rows:\", len(JD))\n",
    "print(\"Unique Categories and Their Counts:\")\n",
    "print(JD['Category'].value_counts())"
   ]
  },
  {
   "cell_type": "code",
   "execution_count": 37,
   "id": "0db7a1f6-3b5b-4b7a-a1b4-52ab3e40fdda",
   "metadata": {},
   "outputs": [],
   "source": [
    "# Load Resume dataset\n",
    "resume_df = pd.read_csv(\"resumes_filtered_deduplicated_utf8.csv\")"
   ]
  },
  {
   "cell_type": "code",
   "execution_count": 39,
   "id": "4c6286ff-182b-4632-b676-5be5dcdc561a",
   "metadata": {},
   "outputs": [],
   "source": [
    "# ✅ 1. Drop rows with missing or empty resumes\n",
    "resume_df = resume_df.dropna(subset=[\"Resume\"])\n",
    "resume_df = resume_df[resume_df[\"Resume\"].str.strip() != \"\"]"
   ]
  },
  {
   "cell_type": "code",
   "execution_count": 41,
   "id": "72dba6e5-f21d-4094-a59e-4d0d80206f33",
   "metadata": {},
   "outputs": [],
   "source": [
    "# ✅ 2. Clean resume text\n",
    "def clean_text(text):\n",
    "    text = str(text).lower()\n",
    "    text = re.sub(r'<.*?>', '', text)  # Remove HTML tags\n",
    "    text = re.sub(r'[^a-zA-Z0-9\\s]', '', text)  # Remove special characters\n",
    "    text = re.sub(r'\\s+', ' ', text).strip()  # Remove extra spaces\n",
    "    return text\n",
    "\n",
    "resume_df[\"Resume\"] = resume_df[\"Resume\"].apply(clean_text)"
   ]
  },
  {
   "cell_type": "code",
   "execution_count": 43,
   "id": "59c827fe-2550-4ab8-b12a-b078c600071d",
   "metadata": {},
   "outputs": [],
   "source": [
    "# ✅ 3. Rename and keep only required columns\n",
    "resume_df = resume_df[[\"Resume\", \"Category\"]].reset_index(drop=True)"
   ]
  },
  {
   "cell_type": "code",
   "execution_count": 45,
   "id": "e3313476-bc22-4e1d-8a67-0c588770797f",
   "metadata": {},
   "outputs": [
    {
     "name": "stdout",
     "output_type": "stream",
     "text": [
      "✅ Cleaned and saved to 'cleaned_resumes.csv'\n"
     ]
    }
   ],
   "source": [
    "# ✅ 4. Save cleaned resume file\n",
    "resume_df.to_csv(\"cleaned_resumes.csv\", index=False, encoding=\"utf-8\")\n",
    "print(\"✅ Cleaned and saved to 'cleaned_resumes.csv'\")"
   ]
  },
  {
   "cell_type": "code",
   "execution_count": 47,
   "id": "5042c524-74ab-435d-98cb-8987f8c6165b",
   "metadata": {},
   "outputs": [
    {
     "data": {
      "text/html": [
       "<div>\n",
       "<style scoped>\n",
       "    .dataframe tbody tr th:only-of-type {\n",
       "        vertical-align: middle;\n",
       "    }\n",
       "\n",
       "    .dataframe tbody tr th {\n",
       "        vertical-align: top;\n",
       "    }\n",
       "\n",
       "    .dataframe thead th {\n",
       "        text-align: right;\n",
       "    }\n",
       "</style>\n",
       "<table border=\"1\" class=\"dataframe\">\n",
       "  <thead>\n",
       "    <tr style=\"text-align: right;\">\n",
       "      <th></th>\n",
       "      <th>Resume</th>\n",
       "      <th>Category</th>\n",
       "    </tr>\n",
       "  </thead>\n",
       "  <tbody>\n",
       "    <tr>\n",
       "      <th>0</th>\n",
       "      <td>database administrator family private care llc...</td>\n",
       "      <td>Database Administrator</td>\n",
       "    </tr>\n",
       "    <tr>\n",
       "      <th>1</th>\n",
       "      <td>database administrator database administrator ...</td>\n",
       "      <td>Database Administrator</td>\n",
       "    </tr>\n",
       "    <tr>\n",
       "      <th>2</th>\n",
       "      <td>oracle database administrator oracle database ...</td>\n",
       "      <td>Database Administrator</td>\n",
       "    </tr>\n",
       "    <tr>\n",
       "      <th>3</th>\n",
       "      <td>amazon redshift administrator and etl develope...</td>\n",
       "      <td>Database Administrator</td>\n",
       "    </tr>\n",
       "    <tr>\n",
       "      <th>4</th>\n",
       "      <td>scrum master scrum master scrum master richmon...</td>\n",
       "      <td>Database Administrator</td>\n",
       "    </tr>\n",
       "  </tbody>\n",
       "</table>\n",
       "</div>"
      ],
      "text/plain": [
       "                                              Resume                Category\n",
       "0  database administrator family private care llc...  Database Administrator\n",
       "1  database administrator database administrator ...  Database Administrator\n",
       "2  oracle database administrator oracle database ...  Database Administrator\n",
       "3  amazon redshift administrator and etl develope...  Database Administrator\n",
       "4  scrum master scrum master scrum master richmon...  Database Administrator"
      ]
     },
     "execution_count": 47,
     "metadata": {},
     "output_type": "execute_result"
    }
   ],
   "source": [
    "re = pd.read_csv(\"cleaned_resumes.csv\")\n",
    "re.head()"
   ]
  },
  {
   "cell_type": "code",
   "execution_count": 53,
   "id": "5f887dda-7753-44ef-a634-69ab0fc9032a",
   "metadata": {},
   "outputs": [
    {
     "name": "stdout",
     "output_type": "stream",
     "text": [
      "\n",
      "Saved cleaned file:\n",
      "Columns: Index(['Resume', 'Category'], dtype='object')\n",
      "Total rows: 22386\n",
      "Unique Categories and Their Counts:\n",
      "Category\n",
      "Software Developer        5668\n",
      "Systems Administrator     3992\n",
      "Web Developer             3422\n",
      "Database Administrator    2766\n",
      "Java Developer            2350\n",
      "Network Administrator     2188\n",
      "Data Scientist            2000\n",
      "Name: count, dtype: int64\n"
     ]
    }
   ],
   "source": [
    "print(\"\\nSaved cleaned file:\")\n",
    "print(\"Columns:\", re.columns)\n",
    "print(\"Total rows:\", len(re))\n",
    "print(\"Unique Categories and Their Counts:\")\n",
    "print(re['Category'].value_counts())"
   ]
  },
  {
   "cell_type": "code",
   "execution_count": 55,
   "id": "cdf2e0c1-c46d-4018-bfed-cd6b7b89b048",
   "metadata": {},
   "outputs": [
    {
     "name": "stdout",
     "output_type": "stream",
     "text": [
      "Category\n",
      "Software Developer        5668\n",
      "Systems Administrator     3992\n",
      "Web Developer             3422\n",
      "Database Administrator    2766\n",
      "Java Developer            2350\n",
      "Network Administrator     2188\n",
      "Data Scientist            2000\n",
      "Name: count, dtype: int64\n",
      "Category\n",
      "Network Administrator     17581\n",
      "Systems Administrator     17281\n",
      "Java Developer            10589\n",
      "Web Developer             10361\n",
      "Database Administrator    10280\n",
      "Data Scientist             6940\n",
      "Software Developer         3517\n",
      "Name: count, dtype: int64\n"
     ]
    }
   ],
   "source": [
    "print(re[\"Category\"].value_counts())\n",
    "print(JD[\"Category\"].value_counts())"
   ]
  },
  {
   "cell_type": "code",
   "execution_count": null,
   "id": "5e1114d2-6429-4d8a-a25d-b14536ea39f6",
   "metadata": {},
   "outputs": [],
   "source": []
  }
 ],
 "metadata": {
  "kernelspec": {
   "display_name": "Python 3 (ipykernel)",
   "language": "python",
   "name": "python3"
  },
  "language_info": {
   "codemirror_mode": {
    "name": "ipython",
    "version": 3
   },
   "file_extension": ".py",
   "mimetype": "text/x-python",
   "name": "python",
   "nbconvert_exporter": "python",
   "pygments_lexer": "ipython3",
   "version": "3.12.7"
  }
 },
 "nbformat": 4,
 "nbformat_minor": 5
}
